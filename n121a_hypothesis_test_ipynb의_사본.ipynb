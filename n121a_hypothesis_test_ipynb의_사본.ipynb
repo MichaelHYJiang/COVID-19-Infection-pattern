{
  "nbformat": 4,
  "nbformat_minor": 0,
  "metadata": {
    "colab": {
      "name": "n121a-hypothesis-test.ipynb의 사본",
      "provenance": [],
      "include_colab_link": true
    },
    "kernelspec": {
      "display_name": "Python 3",
      "language": "python",
      "name": "python3"
    },
    "language_info": {
      "codemirror_mode": {
        "name": "ipython",
        "version": 3
      },
      "file_extension": ".py",
      "mimetype": "text/x-python",
      "name": "python",
      "nbconvert_exporter": "python",
      "pygments_lexer": "ipython3",
      "version": "3.8.5"
    }
  },
  "cells": [
    {
      "cell_type": "markdown",
      "metadata": {
        "id": "view-in-github",
        "colab_type": "text"
      },
      "source": [
        "<a href=\"https://colab.research.google.com/github/ahnjihyun/COVID-19-Infection-pattern/blob/master/n121a_hypothesis_test_ipynb%EC%9D%98_%EC%82%AC%EB%B3%B8.ipynb\" target=\"_parent\"><img src=\"https://colab.research.google.com/assets/colab-badge.svg\" alt=\"Open In Colab\"/></a>"
      ]
    },
    {
      "cell_type": "markdown",
      "metadata": {
        "id": "Sa5KWMO1ngPN"
      },
      "source": [
        "<img src='https://i.imgur.com/RDAD11M.png' width = '200' align = 'right'>\n",
        "\n",
        "## *DATA SCIENCE / SECTION 1 / SPRINT 2 / NOTE 1*\n",
        "\n",
        "# 📝 Assignment"
      ]
    },
    {
      "cell_type": "markdown",
      "metadata": {
        "id": "gZDO3KBZOJNp"
      },
      "source": [
        "## 1. 1-Sample T-tests 연습\r\n",
        "★1개의 sample 값들의 **평균**이 **특정값**과 동일한지 비교"
      ]
    },
    {
      "cell_type": "markdown",
      "metadata": {
        "id": "CdRkOn9X5BdF"
      },
      "source": [
        "### 데이터 불러오기\n",
        "- [서울시 가로수 데이터셋](https://data.seoul.go.kr/dataList/367/S/2/datasetView.do)을 사용합니다.\n",
        "\n",
        "다음 링크를 참조하세요. \n",
        "<https://ds-lecture-data.s3.ap-northeast-2.amazonaws.com/seoul_tree/seoul_tree.txt>\n"
      ]
    },
    {
      "cell_type": "code",
      "metadata": {
        "id": "cj-d0_8wWJjj",
        "colab": {
          "base_uri": "https://localhost:8080/",
          "height": 434
        },
        "outputId": "f158f37a-16e0-4dce-bfda-fdcfc962dc71"
      },
      "source": [
        "import pandas as pd\r\n",
        "from scipy import stats\r\n",
        "import numpy as np\r\n",
        "\r\n",
        "trees = pd.read_csv('https://ds-lecture-data.s3.ap-northeast-2.amazonaws.com/seoul_tree/seoul_tree.txt', sep='\\t', skiprows=1)\r\n",
        "# 결측치 대체 ('-' > '0')\r\n",
        "trees = trees.replace({'-':0})\r\n",
        "trees.head()"
      ],
      "execution_count": null,
      "outputs": [
        {
          "output_type": "execute_result",
          "data": {
            "text/html": [
              "<div>\n",
              "<style scoped>\n",
              "    .dataframe tbody tr th:only-of-type {\n",
              "        vertical-align: middle;\n",
              "    }\n",
              "\n",
              "    .dataframe tbody tr th {\n",
              "        vertical-align: top;\n",
              "    }\n",
              "\n",
              "    .dataframe thead th {\n",
              "        text-align: right;\n",
              "    }\n",
              "</style>\n",
              "<table border=\"1\" class=\"dataframe\">\n",
              "  <thead>\n",
              "    <tr style=\"text-align: right;\">\n",
              "      <th></th>\n",
              "      <th>기간</th>\n",
              "      <th>자치구</th>\n",
              "      <th>노선수</th>\n",
              "      <th>수량</th>\n",
              "      <th>은행나무</th>\n",
              "      <th>양버즘나무</th>\n",
              "      <th>느티나무</th>\n",
              "      <th>왕벚나무</th>\n",
              "      <th>은단풍나무</th>\n",
              "      <th>메타세콰이어</th>\n",
              "      <th>회화나무</th>\n",
              "      <th>가죽나무</th>\n",
              "      <th>감나무</th>\n",
              "      <th>수양버들</th>\n",
              "      <th>튜울립나무</th>\n",
              "      <th>칠엽수</th>\n",
              "      <th>포플러</th>\n",
              "      <th>느릅나무</th>\n",
              "      <th>살구나무</th>\n",
              "      <th>무궁화</th>\n",
              "      <th>소나무</th>\n",
              "      <th>목련</th>\n",
              "      <th>이팝나무</th>\n",
              "      <th>기타</th>\n",
              "    </tr>\n",
              "  </thead>\n",
              "  <tbody>\n",
              "    <tr>\n",
              "      <th>0</th>\n",
              "      <td>2019</td>\n",
              "      <td>서울시</td>\n",
              "      <td>1,412</td>\n",
              "      <td>307,351</td>\n",
              "      <td>108,050</td>\n",
              "      <td>62,474</td>\n",
              "      <td>37,473</td>\n",
              "      <td>34,150</td>\n",
              "      <td>545</td>\n",
              "      <td>5,171</td>\n",
              "      <td>7,816</td>\n",
              "      <td>52</td>\n",
              "      <td>871</td>\n",
              "      <td>32</td>\n",
              "      <td>948</td>\n",
              "      <td>1,533</td>\n",
              "      <td>7</td>\n",
              "      <td>504</td>\n",
              "      <td>234</td>\n",
              "      <td>2,374</td>\n",
              "      <td>4,539</td>\n",
              "      <td>378</td>\n",
              "      <td>20,088</td>\n",
              "      <td>20,112</td>\n",
              "    </tr>\n",
              "    <tr>\n",
              "      <th>1</th>\n",
              "      <td>2019</td>\n",
              "      <td>종로구</td>\n",
              "      <td>70</td>\n",
              "      <td>7,329</td>\n",
              "      <td>4,072</td>\n",
              "      <td>1,071</td>\n",
              "      <td>619</td>\n",
              "      <td>421</td>\n",
              "      <td>0</td>\n",
              "      <td>1</td>\n",
              "      <td>140</td>\n",
              "      <td>1</td>\n",
              "      <td>0</td>\n",
              "      <td>8</td>\n",
              "      <td>0</td>\n",
              "      <td>17</td>\n",
              "      <td>0</td>\n",
              "      <td>0</td>\n",
              "      <td>0</td>\n",
              "      <td>0</td>\n",
              "      <td>239</td>\n",
              "      <td>0</td>\n",
              "      <td>711</td>\n",
              "      <td>29</td>\n",
              "    </tr>\n",
              "    <tr>\n",
              "      <th>2</th>\n",
              "      <td>2019</td>\n",
              "      <td>중구</td>\n",
              "      <td>48</td>\n",
              "      <td>8,250</td>\n",
              "      <td>3,640</td>\n",
              "      <td>162</td>\n",
              "      <td>460</td>\n",
              "      <td>289</td>\n",
              "      <td>0</td>\n",
              "      <td>0</td>\n",
              "      <td>176</td>\n",
              "      <td>0</td>\n",
              "      <td>0</td>\n",
              "      <td>0</td>\n",
              "      <td>7</td>\n",
              "      <td>0</td>\n",
              "      <td>0</td>\n",
              "      <td>0</td>\n",
              "      <td>21</td>\n",
              "      <td>46</td>\n",
              "      <td>2,162</td>\n",
              "      <td>0</td>\n",
              "      <td>470</td>\n",
              "      <td>817</td>\n",
              "    </tr>\n",
              "    <tr>\n",
              "      <th>3</th>\n",
              "      <td>2019</td>\n",
              "      <td>용산구</td>\n",
              "      <td>39</td>\n",
              "      <td>7,835</td>\n",
              "      <td>4,444</td>\n",
              "      <td>1,422</td>\n",
              "      <td>373</td>\n",
              "      <td>262</td>\n",
              "      <td>0</td>\n",
              "      <td>0</td>\n",
              "      <td>37</td>\n",
              "      <td>0</td>\n",
              "      <td>74</td>\n",
              "      <td>0</td>\n",
              "      <td>13</td>\n",
              "      <td>16</td>\n",
              "      <td>0</td>\n",
              "      <td>0</td>\n",
              "      <td>39</td>\n",
              "      <td>0</td>\n",
              "      <td>51</td>\n",
              "      <td>126</td>\n",
              "      <td>198</td>\n",
              "      <td>780</td>\n",
              "    </tr>\n",
              "    <tr>\n",
              "      <th>4</th>\n",
              "      <td>2019</td>\n",
              "      <td>성동구</td>\n",
              "      <td>38</td>\n",
              "      <td>8,120</td>\n",
              "      <td>1,090</td>\n",
              "      <td>2,401</td>\n",
              "      <td>1,975</td>\n",
              "      <td>602</td>\n",
              "      <td>29</td>\n",
              "      <td>48</td>\n",
              "      <td>325</td>\n",
              "      <td>33</td>\n",
              "      <td>146</td>\n",
              "      <td>0</td>\n",
              "      <td>0</td>\n",
              "      <td>1</td>\n",
              "      <td>3</td>\n",
              "      <td>59</td>\n",
              "      <td>0</td>\n",
              "      <td>0</td>\n",
              "      <td>53</td>\n",
              "      <td>0</td>\n",
              "      <td>709</td>\n",
              "      <td>646</td>\n",
              "    </tr>\n",
              "  </tbody>\n",
              "</table>\n",
              "</div>"
            ],
            "text/plain": [
              "     기간  자치구    노선수       수량     은행나무  ...    무궁화    소나무   목련    이팝나무      기타\n",
              "0  2019  서울시  1,412  307,351  108,050  ...  2,374  4,539  378  20,088  20,112\n",
              "1  2019  종로구     70    7,329    4,072  ...      0    239    0     711      29\n",
              "2  2019   중구     48    8,250    3,640  ...     46  2,162    0     470     817\n",
              "3  2019  용산구     39    7,835    4,444  ...      0     51  126     198     780\n",
              "4  2019  성동구     38    8,120    1,090  ...      0     53    0     709     646\n",
              "\n",
              "[5 rows x 24 columns]"
            ]
          },
          "metadata": {
            "tags": []
          },
          "execution_count": 63
        }
      ]
    },
    {
      "cell_type": "markdown",
      "metadata": {
        "id": "oxsx9cN7dUPp"
      },
      "source": [
        "**서울시에는 구별로 평균적으로 약 400 그루 정도의 `이팝나무`가 있다** 라는 가설에 대해 가설검정을 시행하세요.\n",
        "\n",
        "단, `서울시`, `공원녹지사업소`, `시설관리공단` 부분의 데이터는 제외합니다."
      ]
    },
    {
      "cell_type": "code",
      "metadata": {
        "id": "6pXyclB9ZXCn",
        "colab": {
          "base_uri": "https://localhost:8080/"
        },
        "outputId": "18c51770-da3c-4499-b05a-232b226348ab"
      },
      "source": [
        "## 이팝나무 column의 평균 구하고 400과 같다/아니다 가설검정\r\n",
        "\r\n",
        "# 이팝나무 자치구별 평균량\r\n",
        "t1 = pd.to_numeric(trees['이팝나무'].str.replace(',', '')) \r\n",
        "# [서울시, 공원녹지사업소, 시설관리공단] 데이터 제외\r\n",
        "t1 = t1.drop([0,26,27],0)\r\n",
        "m1 = t1.mean()\r\n",
        "# m1 == 688.64\r\n",
        "\r\n",
        "# 한 집단 평균 감정\r\n",
        "result = stats.ttest_1samp(t1, 400)\r\n",
        "# 데이터 집단의 평균과 거리가 멀수록 p-value 값이 낮아짐\r\n",
        "print('T-test 통계량 = %.3f, P-value = %.3f'%(result))\r\n",
        "\r\n",
        "''' \r\n",
        "<결론> \r\n",
        "p-value가 0.002임을 보아 귀무가설이 옳을 확률이 0.2%이다\r\n",
        "=> 귀무가설이 틀렸다\r\n",
        "=> 즉 서울시에는 구마다 평균적으로 약 400그루의 이팝나무가 있지 않다.\r\n",
        "'''\r\n",
        "print('서울시 자치구별 평균 이팝나무 수 :%d'%(m1))"
      ],
      "execution_count": null,
      "outputs": [
        {
          "output_type": "stream",
          "text": [
            "T-test 통계량 = 3.381, P-value = 0.002\n",
            "서울시 자치구별 평균 이팝나무 수 :688\n"
          ],
          "name": "stdout"
        }
      ]
    },
    {
      "cell_type": "markdown",
      "metadata": {
        "id": "yAkyHaEnbNYa"
      },
      "source": [
        "이번에는 10개의 구를 샘플링하여, 위에 대한 가설검정을 다시 한번 시행해보세요. \n",
        "\n",
        "단, 아래의 코드를 참조하여 sample 을 위한 seed 는 123으로 설정하세요.\n",
        "\n",
        "```python\n",
        "np.random.seed(123)\n",
        "np.random.choice( ,size = 10) \n",
        "```"
      ]
    },
    {
      "cell_type": "code",
      "metadata": {
        "id": "jZF_zEYw-_97",
        "colab": {
          "base_uri": "https://localhost:8080/"
        },
        "outputId": "5f0f7627-684f-4944-bce3-e8fb4dd9deb4"
      },
      "source": [
        "# T-test를 할때 샘플링 사이즈가 영향을 주는 것을 확인하는게 주 목적\r\n",
        "np.random.seed(123)\r\n",
        "sample10 = np.random.choice(t1, size=10)\r\n",
        "s1 = sample10.mean()\r\n",
        "# s1 == 479.7\r\n",
        "\r\n",
        "result2 = stats.ttest_1samp(sample10, 400)\r\n",
        "print('T-test 통계량 = %.3f, P-value = %.3f'%(result2))\r\n",
        "\r\n",
        "''' \r\n",
        "<결론> \r\n",
        "p-value가 약 0.5임을 보아 귀무가설이 옳을 확률이 50%이다\r\n",
        "=> 귀무가설은 틀리지 않았다 \r\n",
        "=> 서울시에는 구마다 평균적으로 약 400그루의 이팝나무가 있다 (이 sample에 한해서)\r\n",
        "'''\r\n",
        "print('sample10 집단에서 서울시 자치구별 평균 이팝나무 수 :%d'%(s1))"
      ],
      "execution_count": null,
      "outputs": [
        {
          "output_type": "stream",
          "text": [
            "T-test 통계량 = 0.707, P-value = 0.498\n",
            "sample10 집단에서 서울시 자치구별 평균 이팝나무 수 :479\n"
          ],
          "name": "stdout"
        }
      ]
    },
    {
      "cell_type": "markdown",
      "metadata": {
        "id": "sDO-ufMDfpVA"
      },
      "source": [
        "왜 두 t-test의 결론이, 동일한 데이터셋임에도 불구하고 다른 결론이 나왔나요?"
      ]
    },
    {
      "cell_type": "code",
      "metadata": {
        "id": "P3VRacUcRk6A"
      },
      "source": [
        "# 위에서 T값과 p-value값이 다른 이유?\r\n",
        "''' \r\n",
        "sample size가 다르기때문에 값이 다르게 나온다.\r\n",
        "'''"
      ],
      "execution_count": null,
      "outputs": []
    },
    {
      "cell_type": "markdown",
      "metadata": {
        "id": "TPT-ZTt0PuIk"
      },
      "source": [
        "## 2. 2-Sample T-tests 연습\r\n",
        "★ 2개의 sample 값들의 **평균**이 서로 동일한지 비교"
      ]
    },
    {
      "cell_type": "markdown",
      "metadata": {
        "id": "2WZnCBsR_2jT"
      },
      "source": [
        "**서울시의 구별 평균 느티나무수와 왕벚나무의 수는 차이가 없다** 라는 가설에 대해 가설검정을 시행하세요.\n",
        "\n",
        "단, `서울시`, `공원녹지사업소`, `시설관리공단` 부분의 데이터는 제외합니다."
      ]
    },
    {
      "cell_type": "code",
      "metadata": {
        "id": "__qLGHt5fXvU",
        "colab": {
          "base_uri": "https://localhost:8080/"
        },
        "outputId": "406a15a8-a582-42b9-8e8f-95fecf20735a"
      },
      "source": [
        "# 느티나무 t2\r\n",
        "t2 = pd.to_numeric(trees['느티나무'].str.replace(',', '')) \r\n",
        "t2 = t2.drop([0,26,27],0)\r\n",
        "\r\n",
        "# 왕벚나무 t3\r\n",
        "t3 = pd.to_numeric(trees['왕벚나무'].str.replace(',', '')) \r\n",
        "t3 = t3.drop([0,26,27],0)\r\n",
        "\r\n",
        "# 귀무가설: 시울시 자치구별 평균 느티나무, 왕벚나무의 수는 차이가 없다(동일하다)\r\n",
        "# 대체가설: 시울시 자치구별 평균 느티나무, 왕벚나무의 수는 다르다\r\n",
        "\r\n",
        "# 두 집단 평균 감정(independent)\r\n",
        "result3 = stats.ttest_ind(t2,t3) \r\n",
        "# 데이터 집단의 평균끼리 거리가 멀수록 p-value 값이 낮아짐\r\n",
        "print('T-test 통계량 = %.3f, P-value = %.3f'%(result3));\r\n",
        "\r\n",
        "\r\n",
        "#<결론> \r\n",
        "#p-value가 0.65임을 보아 귀무가설이 옳을 확률이 65%이다\r\n",
        "#=> 귀무가설이 맞다\r\n",
        "#=> 즉 시울시 자치구별 평균 느티나무, 왕벚나무의 수는 매우 비슷하다고 볼 수 있다\r\n",
        "m2 = t2.mean()\r\n",
        "m3 = t3.mean()\r\n",
        "print('서울시 자치구별 평균 느티나무, 왕벚나무 수 :%d, %d'%(m2, m3))"
      ],
      "execution_count": null,
      "outputs": [
        {
          "output_type": "stream",
          "text": [
            "T-test 통계량 = 0.463, P-value = 0.646\n",
            "서울시 자치구별 평균 느티나무, 왕벚나무 수 :1415, 1292\n"
          ],
          "name": "stdout"
        }
      ]
    },
    {
      "cell_type": "markdown",
      "metadata": {
        "id": "vhhXvirEAeCH"
      },
      "source": [
        "\n",
        "다음 링크를 참조하세요.\n",
        "<https://stackoverflow.com/questions/15984221/how-to-perform-two-sample-one-tailed-t-test-with-numpy-scipy>\n",
        "\n",
        "One-tailed test를 사용하여 **평균 느티나무수가 왕벚나무 수보다 크다**라는 가설에 대한 가설검정을 시행하세요."
      ]
    },
    {
      "cell_type": "code",
      "metadata": {
        "id": "bCE3UgpbP69p",
        "colab": {
          "base_uri": "https://localhost:8080/"
        },
        "outputId": "c162f246-e9c6-425b-aed7-d1123fa52716"
      },
      "source": [
        "# two-sample one-tailed t-test : 두 집단의 각 평균값이 크다/작다를 검증\r\n",
        "# 전체 구에 대해 \"느티나무의 평균이 왕벚나무보다 크다\"라는 가설 검정 하기\r\n",
        "\r\n",
        "# 귀무가설: 시울시 자치구별 평균 느티나무의 수가 왕벚나무보다 크다\r\n",
        "# 대체가설: 시울시 자치구별 평균 느티나무의 수가 왕벚나무보다 작다\r\n",
        "\r\n",
        "print(m2,m3)\r\n",
        "# m2 > m3 임을 확인\r\n",
        "# 귀무가설 H0: A <= B\r\n",
        "# 대체가설 H1: A > B\r\n",
        "\r\n",
        "# two-tailed t-test : t2.mean()-t3.mean()\r\n",
        "t_v, p_v = stats.ttest_ind(t2, t3) \r\n",
        "print('T-test 통계량 = %.3f, P-value = %.3f'%(result3));\r\n",
        "\r\n",
        "# one-tailed t-test를 하려면 p_v/2\r\n",
        "# 데이터 집단의 평균끼리 거리가 멀수록 p-value 값이 낮아짐\r\n",
        "p = round(p_v, 2)/2\r\n",
        "print(p)\r\n",
        "\r\n",
        "#<결론> \r\n",
        "#p-value가 0.33임을 보아 귀무가설이 옳을 확률이 33%이다\r\n",
        "#=> 귀무가설지은 틀리지 않았다\r\n",
        "#=> 즉 시울시 자치구별 평균 느티나무의 수가 왕벚나무보다 크다(많다)"
      ],
      "execution_count": null,
      "outputs": [
        {
          "output_type": "stream",
          "text": [
            "1415.12 1292.0\n",
            "T-test 통계량 = 0.463, P-value = 0.646\n",
            "0.325\n"
          ],
          "name": "stdout"
        }
      ]
    },
    {
      "cell_type": "markdown",
      "metadata": {
        "id": "C5pkmOuKgK9Y"
      },
      "source": [
        "## 🔥 **도전과제**\n",
        "\n",
        "아래 세가지중 한가지를 하면 됩니다.\n",
        "\n"
      ]
    },
    {
      "cell_type": "markdown",
      "metadata": {
        "id": "tZQwoBeZCU1I"
      },
      "source": [
        "### 1) 함수와 반복문을 사용하여 (for loop, .apply(), list 등등) 종로구 vs 다른 모든 자치구에 대해서 two-sample t-test를 시행하세요."
      ]
    },
    {
      "cell_type": "code",
      "metadata": {
        "id": "z7c7K322gLeN"
      },
      "source": [
        ""
      ],
      "execution_count": null,
      "outputs": []
    },
    {
      "cell_type": "markdown",
      "metadata": {
        "id": "3114xDdlPjFx"
      },
      "source": [
        "### 2) multiple-sample t-test\n",
        " \n",
        "\n",
        "다음 링크를 참조하세요. <https://reneshbedre.github.io/blog/anova.html>\n",
        "\n",
        "구별, 은행나무, 양버즘나무, 느티나무에 대해서 ANOVA Test를 실행하세요.\n",
        "\n",
        "단, `서울시`, `공원녹지사업소`, `시설관리공단` 부분의 데이터는 제외합니다."
      ]
    },
    {
      "cell_type": "code",
      "metadata": {
        "id": "dPmXOHh1Cfea"
      },
      "source": [
        ""
      ],
      "execution_count": null,
      "outputs": []
    },
    {
      "cell_type": "markdown",
      "metadata": {
        "id": "nLl4aWDPCVaO"
      },
      "source": [
        "### 3) 세션 시간에 배웠던 4가지 sample 방식을 구현해보세요.\n",
        "\n",
        "이를 위한 데이터는 1 부터 100 이며, sampling해야 하는 수는 20개 입니다.\n",
        "\n",
        "- Stratified random sampling을 위한 그룹을 나누는 기준은 1-10, 11-20, ... 과 같은 방식입니다.\n",
        "\n",
        "- Cluster sampling 을 위한 그룹을 나누는 기준은 5로 나눴을때의 나머지 값입니다. (0,1,2,3,4)"
      ]
    }
  ]
}